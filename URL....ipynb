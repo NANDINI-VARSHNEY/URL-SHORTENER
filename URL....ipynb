{
 "cells": [
  {
   "cell_type": "code",
   "execution_count": 1,
   "id": "065fbaa5",
   "metadata": {
    "scrolled": false
   },
   "outputs": [
    {
     "name": "stdout",
     "output_type": "stream",
     "text": [
      "Note: you may need to restart the kernel to use updated packages.\n"
     ]
    },
    {
     "name": "stderr",
     "output_type": "stream",
     "text": [
      "ERROR: Could not find a version that satisfies the requirement pyshortener (from versions: none)\n",
      "ERROR: No matching distribution found for pyshortener\n"
     ]
    }
   ],
   "source": [
    "pip install pyshortener"
   ]
  },
  {
   "cell_type": "code",
   "execution_count": 2,
   "id": "add7e9d7",
   "metadata": {},
   "outputs": [
    {
     "name": "stdout",
     "output_type": "stream",
     "text": [
      "Requirement already satisfied: pyperclip in c:\\users\\64in\\anaconda3\\lib\\site-packages (1.8.2)\n",
      "Note: you may need to restart the kernel to use updated packages.\n"
     ]
    }
   ],
   "source": [
    "pip install pyperclip"
   ]
  },
  {
   "cell_type": "code",
   "execution_count": null,
   "id": "a7e532b2",
   "metadata": {},
   "outputs": [],
   "source": []
  },
  {
   "cell_type": "code",
   "execution_count": 6,
   "id": "a40e07bc",
   "metadata": {},
   "outputs": [
    {
     "name": "stdout",
     "output_type": "stream",
     "text": [
      "None\n"
     ]
    }
   ],
   "source": [
    "from tkinter import *\n",
    "import pyperclip\n",
    "import pyshorteners\n",
    "from PIL import Image , ImageTk\n",
    "\n",
    "\n",
    "def url_shortner():\n",
    "    shortener = pyshorteners.Shortener()\n",
    "    url_short = shortener.tinyurl.short(userurl.get())\n",
    "    print(codeEntry.insert(0,url_short))\n",
    "    \n",
    "    #set the gloabal short_url\n",
    "    #short_url.set(url_short)\n",
    "\n",
    "def copy_url():\n",
    "    #copy short url on clipboard\n",
    "    pyperclip.copy(codeEntry.get())\n",
    "\n",
    "\n",
    "root = Tk()\n",
    "root.geometry(\"750x420\")\n",
    "root.title(\"My URL Shortener App\")\n",
    "\n",
    "image = Image.open(r\"C:\\Users\\64in\\Pictures\\Screenshots\\url1.png\")\n",
    "photo = ImageTk.PhotoImage(image)\n",
    "label = Label(image=photo).pack()\n",
    "root.resizable(width=False,height=False)    \n",
    "    \n",
    "enterurl = Label(root, text=\"Enter Main URL\", justify=RIGHT, bg='white', font=(\"Arial\", 18))\n",
    "enterurl.place(x=300, y=30) \n",
    "\n",
    "userurl = StringVar()\n",
    "userurl = Entry(root, text='', width=45, font=(\"Arial\", 15))\n",
    "userurl.place(x=140, y=80)\n",
    "\n",
    "shortenurl = Button(root, text=\"Show Shortened URL\", width=18, height=1, font=(\"Arial\", 18), borderwidth=0, bg=\"white\", fg=\"black\",command=url_shortner)\n",
    "shortenurl.place(x=255, y=140)   \n",
    "\n",
    "codeEntry = Entry(root, width=35, font=(\"Arial\", 15), borderwidth=0)\n",
    "codeEntry.place(x=210, y=230)\n",
    "\n",
    "verify = Button(root,text=\"Copy the Short URL\",width=18,height=1,font=(\"Arial\", 18), borderwidth=0, bg=\"white\", fg=\"black\",command=copy_url)\n",
    "verify.place(x=250,y=270)\n",
    "    \n",
    "    \n",
    "root.mainloop()"
   ]
  }
 ],
 "metadata": {
  "kernelspec": {
   "display_name": "Python 3 (ipykernel)",
   "language": "python",
   "name": "python3"
  },
  "language_info": {
   "codemirror_mode": {
    "name": "ipython",
    "version": 3
   },
   "file_extension": ".py",
   "mimetype": "text/x-python",
   "name": "python",
   "nbconvert_exporter": "python",
   "pygments_lexer": "ipython3",
   "version": "3.9.13"
  }
 },
 "nbformat": 4,
 "nbformat_minor": 5
}
